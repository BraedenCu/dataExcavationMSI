{
 "metadata": {
  "language_info": {
   "codemirror_mode": {
    "name": "ipython",
    "version": 3
   },
   "file_extension": ".py",
   "mimetype": "text/x-python",
   "name": "python",
   "nbconvert_exporter": "python",
   "pygments_lexer": "ipython3",
   "version": "3.8.8"
  },
  "orig_nbformat": 2,
  "kernelspec": {
   "name": "python3",
   "display_name": "Python 3.8.8 64-bit ('pytorch': conda)",
   "metadata": {
    "interpreter": {
     "hash": "d45ad03d5b93f24b4bc817c86cce5344011b8ecae994ab2cd6ef61f0f7d016f8"
    }
   }
  }
 },
 "nbformat": 4,
 "nbformat_minor": 2,
 "cells": [
  {
   "cell_type": "code",
   "execution_count": 13,
   "metadata": {},
   "outputs": [
    {
     "output_type": "execute_result",
     "data": {
      "text/plain": [
       "   State_FIPS_code    State Compound  Year Units    Corn  Soybeans    Wheat  \\\n",
       "0                1  Alabama    2,4-D  1992    kg  3775.1       NaN   5129.4   \n",
       "1                1  Alabama    2,4-D  1993    kg  3950.6       NaN  14390.0   \n",
       "2                1  Alabama    2,4-D  1994    kg  3324.3      66.7    103.4   \n",
       "3                1  Alabama    2,4-D  1995    kg   855.3    1832.5   4560.5   \n",
       "4                1  Alabama    2,4-D  1996    kg  3018.9   21210.5   6107.7   \n",
       "\n",
       "   Cotton  Vegetables_and_fruit  Rice  Orchards_and_grapes  Alfalfa  \\\n",
       "0     NaN                  30.3   NaN                133.7      NaN   \n",
       "1     NaN                   NaN   NaN                  NaN      NaN   \n",
       "2     NaN                  12.3   NaN                  NaN      NaN   \n",
       "3     NaN                   4.0   NaN                312.5      NaN   \n",
       "4  3548.9                  32.2   NaN                216.8      NaN   \n",
       "\n",
       "   Pasture_and_hay  Other_crops  Unnamed: 15  \n",
       "0          60348.5       6837.5      76254.5  \n",
       "1          53527.4      20476.1      92344.1  \n",
       "2          50899.0      15173.9      69579.6  \n",
       "3          61755.0      10223.2      79543.0  \n",
       "4         107006.3       6212.6          NaN  "
      ],
      "text/html": "<div>\n<style scoped>\n    .dataframe tbody tr th:only-of-type {\n        vertical-align: middle;\n    }\n\n    .dataframe tbody tr th {\n        vertical-align: top;\n    }\n\n    .dataframe thead th {\n        text-align: right;\n    }\n</style>\n<table border=\"1\" class=\"dataframe\">\n  <thead>\n    <tr style=\"text-align: right;\">\n      <th></th>\n      <th>State_FIPS_code</th>\n      <th>State</th>\n      <th>Compound</th>\n      <th>Year</th>\n      <th>Units</th>\n      <th>Corn</th>\n      <th>Soybeans</th>\n      <th>Wheat</th>\n      <th>Cotton</th>\n      <th>Vegetables_and_fruit</th>\n      <th>Rice</th>\n      <th>Orchards_and_grapes</th>\n      <th>Alfalfa</th>\n      <th>Pasture_and_hay</th>\n      <th>Other_crops</th>\n      <th>Unnamed: 15</th>\n    </tr>\n  </thead>\n  <tbody>\n    <tr>\n      <th>0</th>\n      <td>1</td>\n      <td>Alabama</td>\n      <td>2,4-D</td>\n      <td>1992</td>\n      <td>kg</td>\n      <td>3775.1</td>\n      <td>NaN</td>\n      <td>5129.4</td>\n      <td>NaN</td>\n      <td>30.3</td>\n      <td>NaN</td>\n      <td>133.7</td>\n      <td>NaN</td>\n      <td>60348.5</td>\n      <td>6837.5</td>\n      <td>76254.5</td>\n    </tr>\n    <tr>\n      <th>1</th>\n      <td>1</td>\n      <td>Alabama</td>\n      <td>2,4-D</td>\n      <td>1993</td>\n      <td>kg</td>\n      <td>3950.6</td>\n      <td>NaN</td>\n      <td>14390.0</td>\n      <td>NaN</td>\n      <td>NaN</td>\n      <td>NaN</td>\n      <td>NaN</td>\n      <td>NaN</td>\n      <td>53527.4</td>\n      <td>20476.1</td>\n      <td>92344.1</td>\n    </tr>\n    <tr>\n      <th>2</th>\n      <td>1</td>\n      <td>Alabama</td>\n      <td>2,4-D</td>\n      <td>1994</td>\n      <td>kg</td>\n      <td>3324.3</td>\n      <td>66.7</td>\n      <td>103.4</td>\n      <td>NaN</td>\n      <td>12.3</td>\n      <td>NaN</td>\n      <td>NaN</td>\n      <td>NaN</td>\n      <td>50899.0</td>\n      <td>15173.9</td>\n      <td>69579.6</td>\n    </tr>\n    <tr>\n      <th>3</th>\n      <td>1</td>\n      <td>Alabama</td>\n      <td>2,4-D</td>\n      <td>1995</td>\n      <td>kg</td>\n      <td>855.3</td>\n      <td>1832.5</td>\n      <td>4560.5</td>\n      <td>NaN</td>\n      <td>4.0</td>\n      <td>NaN</td>\n      <td>312.5</td>\n      <td>NaN</td>\n      <td>61755.0</td>\n      <td>10223.2</td>\n      <td>79543.0</td>\n    </tr>\n    <tr>\n      <th>4</th>\n      <td>1</td>\n      <td>Alabama</td>\n      <td>2,4-D</td>\n      <td>1996</td>\n      <td>kg</td>\n      <td>3018.9</td>\n      <td>21210.5</td>\n      <td>6107.7</td>\n      <td>3548.9</td>\n      <td>32.2</td>\n      <td>NaN</td>\n      <td>216.8</td>\n      <td>NaN</td>\n      <td>107006.3</td>\n      <td>6212.6</td>\n      <td>NaN</td>\n    </tr>\n  </tbody>\n</table>\n</div>"
     },
     "metadata": {},
     "execution_count": 13
    }
   ],
   "source": [
    "import pandas as pd \n",
    "import numpy as np\n",
    "import matplotlib.pyplt as plt\n",
    "import scipy.stats"
   ]
  },
  {
   "cell_type": "code",
   "execution_count": 28,
   "metadata": {},
   "outputs": [
    {
     "output_type": "execute_result",
     "data": {
      "text/plain": [
       "   State_FIPS_code    State Compound  Year Units    Corn  Soybeans    Wheat  \\\n",
       "0                1  Alabama    2,4-D  1992    kg  3775.1       NaN   5129.4   \n",
       "1                1  Alabama    2,4-D  1993    kg  3950.6       NaN  14390.0   \n",
       "2                1  Alabama    2,4-D  1994    kg  3324.3      66.7    103.4   \n",
       "3                1  Alabama    2,4-D  1995    kg   855.3    1832.5   4560.5   \n",
       "4                1  Alabama    2,4-D  1996    kg  3018.9   21210.5   6107.7   \n",
       "\n",
       "   Cotton  Vegetables_and_fruit  Rice  Orchards_and_grapes  Alfalfa  \\\n",
       "0     NaN                  30.3   NaN                133.7      NaN   \n",
       "1     NaN                   NaN   NaN                  NaN      NaN   \n",
       "2     NaN                  12.3   NaN                  NaN      NaN   \n",
       "3     NaN                   4.0   NaN                312.5      NaN   \n",
       "4  3548.9                  32.2   NaN                216.8      NaN   \n",
       "\n",
       "   Pasture_and_hay  Other_crops  Unnamed: 15  \n",
       "0          60348.5       6837.5      76254.5  \n",
       "1          53527.4      20476.1      92344.1  \n",
       "2          50899.0      15173.9      69579.6  \n",
       "3          61755.0      10223.2      79543.0  \n",
       "4         107006.3       6212.6          NaN  "
      ],
      "text/html": "<div>\n<style scoped>\n    .dataframe tbody tr th:only-of-type {\n        vertical-align: middle;\n    }\n\n    .dataframe tbody tr th {\n        vertical-align: top;\n    }\n\n    .dataframe thead th {\n        text-align: right;\n    }\n</style>\n<table border=\"1\" class=\"dataframe\">\n  <thead>\n    <tr style=\"text-align: right;\">\n      <th></th>\n      <th>State_FIPS_code</th>\n      <th>State</th>\n      <th>Compound</th>\n      <th>Year</th>\n      <th>Units</th>\n      <th>Corn</th>\n      <th>Soybeans</th>\n      <th>Wheat</th>\n      <th>Cotton</th>\n      <th>Vegetables_and_fruit</th>\n      <th>Rice</th>\n      <th>Orchards_and_grapes</th>\n      <th>Alfalfa</th>\n      <th>Pasture_and_hay</th>\n      <th>Other_crops</th>\n      <th>Unnamed: 15</th>\n    </tr>\n  </thead>\n  <tbody>\n    <tr>\n      <th>0</th>\n      <td>1</td>\n      <td>Alabama</td>\n      <td>2,4-D</td>\n      <td>1992</td>\n      <td>kg</td>\n      <td>3775.1</td>\n      <td>NaN</td>\n      <td>5129.4</td>\n      <td>NaN</td>\n      <td>30.3</td>\n      <td>NaN</td>\n      <td>133.7</td>\n      <td>NaN</td>\n      <td>60348.5</td>\n      <td>6837.5</td>\n      <td>76254.5</td>\n    </tr>\n    <tr>\n      <th>1</th>\n      <td>1</td>\n      <td>Alabama</td>\n      <td>2,4-D</td>\n      <td>1993</td>\n      <td>kg</td>\n      <td>3950.6</td>\n      <td>NaN</td>\n      <td>14390.0</td>\n      <td>NaN</td>\n      <td>NaN</td>\n      <td>NaN</td>\n      <td>NaN</td>\n      <td>NaN</td>\n      <td>53527.4</td>\n      <td>20476.1</td>\n      <td>92344.1</td>\n    </tr>\n    <tr>\n      <th>2</th>\n      <td>1</td>\n      <td>Alabama</td>\n      <td>2,4-D</td>\n      <td>1994</td>\n      <td>kg</td>\n      <td>3324.3</td>\n      <td>66.7</td>\n      <td>103.4</td>\n      <td>NaN</td>\n      <td>12.3</td>\n      <td>NaN</td>\n      <td>NaN</td>\n      <td>NaN</td>\n      <td>50899.0</td>\n      <td>15173.9</td>\n      <td>69579.6</td>\n    </tr>\n    <tr>\n      <th>3</th>\n      <td>1</td>\n      <td>Alabama</td>\n      <td>2,4-D</td>\n      <td>1995</td>\n      <td>kg</td>\n      <td>855.3</td>\n      <td>1832.5</td>\n      <td>4560.5</td>\n      <td>NaN</td>\n      <td>4.0</td>\n      <td>NaN</td>\n      <td>312.5</td>\n      <td>NaN</td>\n      <td>61755.0</td>\n      <td>10223.2</td>\n      <td>79543.0</td>\n    </tr>\n    <tr>\n      <th>4</th>\n      <td>1</td>\n      <td>Alabama</td>\n      <td>2,4-D</td>\n      <td>1996</td>\n      <td>kg</td>\n      <td>3018.9</td>\n      <td>21210.5</td>\n      <td>6107.7</td>\n      <td>3548.9</td>\n      <td>32.2</td>\n      <td>NaN</td>\n      <td>216.8</td>\n      <td>NaN</td>\n      <td>107006.3</td>\n      <td>6212.6</td>\n      <td>NaN</td>\n    </tr>\n  </tbody>\n</table>\n</div>"
     },
     "metadata": {},
     "execution_count": 28
    }
   ],
   "source": [
    "#pestdata = pd.read_csv('MSI Data - PesticideData.csv')\n",
    "\n",
    "#pestdata.head()"
   ]
  },
  {
   "cell_type": "code",
   "execution_count": 54,
   "metadata": {},
   "outputs": [],
   "source": [
    "j=0\n",
    "for i in pestdata['Year']:\n",
    "    if i != 2016:\n",
    "        pestdata = pestdata.drop(pestdata.index[j])\n",
    "        j-=1\n",
    "    j+=1\n"
   ]
  },
  {
   "cell_type": "code",
   "execution_count": 57,
   "metadata": {},
   "outputs": [
    {
     "output_type": "execute_result",
     "data": {
      "text/plain": [
       "     State_FIPS_code    State         Compound  Year Units     Corn  Soybeans  \\\n",
       "24                 1  Alabama            2,4-D  2016    kg  33318.8   24407.8   \n",
       "49                 1  Alabama           2,4-DB  2016    kg      NaN       NaN   \n",
       "66                 1  Alabama  6-BENZYLADENINE  2016    kg      NaN       NaN   \n",
       "78                 1  Alabama        ABAMECTIN  2016    kg      NaN       NaN   \n",
       "103                1  Alabama         ACEPHATE  2016    kg      NaN    1002.8   \n",
       "\n",
       "      Wheat   Cotton  Vegetables_and_fruit  Rice  Orchards_and_grapes  \\\n",
       "24   9714.2   2355.9                   NaN   NaN                251.3   \n",
       "49      NaN    578.4                   NaN   NaN                  NaN   \n",
       "66      NaN      NaN                   NaN   NaN                  0.0   \n",
       "78      NaN     52.1                   NaN   NaN                 21.4   \n",
       "103     NaN  17060.7                   NaN   NaN                  NaN   \n",
       "\n",
       "     Alfalfa  Pasture_and_hay  Other_crops  Unnamed: 15  \n",
       "24       NaN         267583.7       1251.4          NaN  \n",
       "49      20.7              NaN      22602.9          NaN  \n",
       "66       NaN              NaN          NaN          NaN  \n",
       "78       NaN              NaN          NaN          NaN  \n",
       "103      NaN              NaN      10222.2          NaN  "
      ],
      "text/html": "<div>\n<style scoped>\n    .dataframe tbody tr th:only-of-type {\n        vertical-align: middle;\n    }\n\n    .dataframe tbody tr th {\n        vertical-align: top;\n    }\n\n    .dataframe thead th {\n        text-align: right;\n    }\n</style>\n<table border=\"1\" class=\"dataframe\">\n  <thead>\n    <tr style=\"text-align: right;\">\n      <th></th>\n      <th>State_FIPS_code</th>\n      <th>State</th>\n      <th>Compound</th>\n      <th>Year</th>\n      <th>Units</th>\n      <th>Corn</th>\n      <th>Soybeans</th>\n      <th>Wheat</th>\n      <th>Cotton</th>\n      <th>Vegetables_and_fruit</th>\n      <th>Rice</th>\n      <th>Orchards_and_grapes</th>\n      <th>Alfalfa</th>\n      <th>Pasture_and_hay</th>\n      <th>Other_crops</th>\n      <th>Unnamed: 15</th>\n    </tr>\n  </thead>\n  <tbody>\n    <tr>\n      <th>24</th>\n      <td>1</td>\n      <td>Alabama</td>\n      <td>2,4-D</td>\n      <td>2016</td>\n      <td>kg</td>\n      <td>33318.8</td>\n      <td>24407.8</td>\n      <td>9714.2</td>\n      <td>2355.9</td>\n      <td>NaN</td>\n      <td>NaN</td>\n      <td>251.3</td>\n      <td>NaN</td>\n      <td>267583.7</td>\n      <td>1251.4</td>\n      <td>NaN</td>\n    </tr>\n    <tr>\n      <th>49</th>\n      <td>1</td>\n      <td>Alabama</td>\n      <td>2,4-DB</td>\n      <td>2016</td>\n      <td>kg</td>\n      <td>NaN</td>\n      <td>NaN</td>\n      <td>NaN</td>\n      <td>578.4</td>\n      <td>NaN</td>\n      <td>NaN</td>\n      <td>NaN</td>\n      <td>20.7</td>\n      <td>NaN</td>\n      <td>22602.9</td>\n      <td>NaN</td>\n    </tr>\n    <tr>\n      <th>66</th>\n      <td>1</td>\n      <td>Alabama</td>\n      <td>6-BENZYLADENINE</td>\n      <td>2016</td>\n      <td>kg</td>\n      <td>NaN</td>\n      <td>NaN</td>\n      <td>NaN</td>\n      <td>NaN</td>\n      <td>NaN</td>\n      <td>NaN</td>\n      <td>0.0</td>\n      <td>NaN</td>\n      <td>NaN</td>\n      <td>NaN</td>\n      <td>NaN</td>\n    </tr>\n    <tr>\n      <th>78</th>\n      <td>1</td>\n      <td>Alabama</td>\n      <td>ABAMECTIN</td>\n      <td>2016</td>\n      <td>kg</td>\n      <td>NaN</td>\n      <td>NaN</td>\n      <td>NaN</td>\n      <td>52.1</td>\n      <td>NaN</td>\n      <td>NaN</td>\n      <td>21.4</td>\n      <td>NaN</td>\n      <td>NaN</td>\n      <td>NaN</td>\n      <td>NaN</td>\n    </tr>\n    <tr>\n      <th>103</th>\n      <td>1</td>\n      <td>Alabama</td>\n      <td>ACEPHATE</td>\n      <td>2016</td>\n      <td>kg</td>\n      <td>NaN</td>\n      <td>1002.8</td>\n      <td>NaN</td>\n      <td>17060.7</td>\n      <td>NaN</td>\n      <td>NaN</td>\n      <td>NaN</td>\n      <td>NaN</td>\n      <td>NaN</td>\n      <td>10222.2</td>\n      <td>NaN</td>\n    </tr>\n  </tbody>\n</table>\n</div>"
     },
     "metadata": {},
     "execution_count": 57
    }
   ],
   "source": [
    "pestdata.head()"
   ]
  },
  {
   "cell_type": "code",
   "execution_count": 59,
   "metadata": {},
   "outputs": [],
   "source": [
    "pestdata.to_csv('revisionOnePesticideData.csv', index=False)"
   ]
  },
  {
   "cell_type": "code",
   "execution_count": 17,
   "metadata": {},
   "outputs": [
    {
     "output_type": "stream",
     "name": "stdout",
     "text": [
      "tset\n"
     ]
    }
   ],
   "source": [
    "def createScatterplot(d1, d2):\n",
    "    plt.scatter(d1, d2)\n",
    "    plt.show()"
   ]
  },
  {
   "cell_type": "code",
   "execution_count": null,
   "metadata": {},
   "outputs": [],
   "source": [
    "def performCorrelationTest(d1, d2):\n",
    "    correlation = np.corrcoef(d1, d2)\n"
   ]
  }
 ]
}